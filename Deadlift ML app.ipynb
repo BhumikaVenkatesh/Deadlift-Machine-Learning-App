{
 "cells": [
  {
   "cell_type": "markdown",
   "id": "e0bd66ec",
   "metadata": {},
   "source": [
    "### Import Libraries"
   ]
  },
  {
   "cell_type": "code",
   "execution_count": null,
   "id": "6f148685",
   "metadata": {},
   "outputs": [],
   "source": [
    "import tkinter as tk\n",
    "import customtkinter as ck\n",
    "\n",
    "import pandas as pd\n",
    "import numpy as np\n",
    "import pickle\n",
    "\n",
    "import mediapipe as mp\n",
    "import cv2\n",
    "from PIL import Image, ImageTk\n",
    "\n",
    "from landmarks import landmarks"
   ]
  },
  {
   "cell_type": "markdown",
   "id": "41c637af",
   "metadata": {},
   "source": [
    "### Define & Configure window"
   ]
  },
  {
   "cell_type": "code",
   "execution_count": null,
   "id": "28f5d936",
   "metadata": {},
   "outputs": [],
   "source": [
    "window=tk.Tk()\n",
    "window.geometry(\"480x700\")\n",
    "window.title(\"Deadlift Machine Learning App\")\n",
    "ck.set_appearance_mode(\"dark\")"
   ]
  },
  {
   "cell_type": "markdown",
   "id": "642a64ae",
   "metadata": {},
   "source": [
    "### Configure labels and buttons"
   ]
  },
  {
   "cell_type": "code",
   "execution_count": null,
   "id": "4b252da9",
   "metadata": {},
   "outputs": [],
   "source": [
    "classLabel   =ck.CTkLabel(window, height=40, width=120,font=(\"Arial\", 20),text_color=\"black\", padx=10)\n",
    "classLabel.place(x=10, y=1)\n",
    "classLabel.configure(text=\"STAGE\")\n",
    "counterLabel =ck.CTkLabel(window, height=40, width=120,font=(\"Arial\", 20),text_color=\"black\", padx=10)\n",
    "counterLabel.place(x=160, y=1)\n",
    "counterLabel.configure(text=\"REPS\")\n",
    "probLabel    =ck.CTkLabel(window, height=40, width=120,font=(\"Arial\", 20),text_color=\"black\", padx=10)\n",
    "probLabel.place(x=300, y=1)\n",
    "probLabel.configure(text=\"PROB\")\n",
    "classBox     =ck.CTkLabel(window, height=40, width=120,font=(\"Arial\", 20),text_color=\"black\", fg_color=\"blue\")\n",
    "classBox.place(x=10, y=41)\n",
    "classBox.configure(text=\"0\")\n",
    "counterBox   =ck.CTkLabel(window, height=40, width=120,font=(\"Arial\", 20),text_color=\"black\", fg_color=\"blue\")\n",
    "counterBox.place(x=160, y=41)\n",
    "counterBox.configure(text=\"0\")\n",
    "probBox      =ck.CTkLabel(window, height=40, width=120,font=(\"Arial\", 20),text_color=\"black\", fg_color=\"blue\")\n",
    "probBox.place(x=300, y=41)\n",
    "probBox.configure(text=\"0\")\n",
    "\n",
    "def reset_counter():\n",
    "    global counter\n",
    "    counter=0\n",
    "\n",
    "button = ck.CTkButton(window, text=\"RESET\", command=reset_counter, height=40, width=120,font=(\"Arial\",20), text_color=\"white\", fg_color=\"green\") \n",
    "button.place(x=10, y=600)"
   ]
  },
  {
   "cell_type": "markdown",
   "id": "e84266c2",
   "metadata": {},
   "source": [
    "### Adding app functionality"
   ]
  },
  {
   "cell_type": "code",
   "execution_count": null,
   "id": "42aa39ba",
   "metadata": {},
   "outputs": [],
   "source": [
    "frame=tk.Frame(height=480, width=480)\n",
    "frame.place(x=10, y=90)\n",
    "lmain=tk.Label(frame)\n",
    "lmain.place(x=0,y=0)\n",
    "\n",
    "mp_drawing=mp.solutions.drawing_utils\n",
    "mp_pose=mp.solutions.pose\n",
    "pose=mp_pose.Pose(min_tracking_confidence=0.5, min_detection_confidence=0.5)\n",
    "\n",
    "with open(\"deadlift.pkl\",\"rb\") as f:\n",
    "    model=pickle.load(f)\n",
    "\n",
    "cap = cv2.VideoCapture(0)\n",
    "current_stage=\"\"\n",
    "counter=0\n",
    "bodylang_prob=np.array([0,0])\n",
    "bodylang_class=\"\"\n",
    "\n",
    "def detect():\n",
    "    global current_stage\n",
    "    global counter\n",
    "    global bodylang_class\n",
    "    global bodylang_prob\n",
    "    \n",
    "    ret, frame=cap.read()\n",
    "    image=cv2.cvtColor(frame, cv2.COLOR_BGR2RGB)\n",
    "    results=pose.process(image)\n",
    "    mp_drawing.draw_landmarks(image, results.pose_landmarks, mp_pose.POSE_CONNECTIONS,\n",
    "                              mp_drawing.DrawingSpec(color=(106,13,173), thickness=4, circle_radius = 5), \n",
    "                              mp_drawing.DrawingSpec(color=(255,102,0), thickness=5, circle_radius = 10)) \n",
    "    \n",
    "    try:\n",
    "        row= np.array([[res.x, res.y, res.z, res.visibility] for res in results.pose_landmarks.landmark]).flatten().tolist()\n",
    "        X=pd.DataFrame([row],columns=landmarks)\n",
    "        bodylang_prob=model.predict_proba(X)[0]\n",
    "        bodylang_class=model.predict(X)[0]\n",
    "        \n",
    "        if bodylang_class == \"down\" and bodylang_prob[bodylang_prob.argmax()]>0.7:\n",
    "            current_stage=\"down\"\n",
    "        elif current_stage == \"down\"  and bodylang_class == \"up\" and bodylang_prob[bodylang_prob.argmax()]>0.7:\n",
    "            current_stage=\"up\"\n",
    "            counter+=1\n",
    "    except Exception as e:\n",
    "        print(e)\n",
    "    \n",
    "    img=image[:,:460,:]\n",
    "    imgarr=Image.fromarray(img)\n",
    "    imgtk=ImageTk.PhotoImage(imgarr)\n",
    "    lmain.imgtk=imgtk\n",
    "    lmain.configure(image=imgtk)\n",
    "    lmain.after(10,detect)\n",
    "    \n",
    "    counterBox.configure(text=counter)\n",
    "    probBox.configure(text= bodylang_prob[bodylang_prob.argmax()])\n",
    "    classBox.configure(text=current_stage)\n",
    "    \n",
    "\n",
    "detect()    \n",
    "window.mainloop()"
   ]
  },
  {
   "cell_type": "code",
   "execution_count": null,
   "id": "0c71ec5c",
   "metadata": {},
   "outputs": [],
   "source": [
    "################################### End of Code ###################################"
   ]
  }
 ],
 "metadata": {
  "kernelspec": {
   "display_name": "Python 3 (ipykernel)",
   "language": "python",
   "name": "python3"
  },
  "language_info": {
   "codemirror_mode": {
    "name": "ipython",
    "version": 3
   },
   "file_extension": ".py",
   "mimetype": "text/x-python",
   "name": "python",
   "nbconvert_exporter": "python",
   "pygments_lexer": "ipython3",
   "version": "3.10.0"
  }
 },
 "nbformat": 4,
 "nbformat_minor": 5
}
